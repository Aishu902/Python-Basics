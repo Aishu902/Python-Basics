{
 "cells": [
  {
   "cell_type": "markdown",
   "id": "62ce1d82",
   "metadata": {},
   "source": [
    "# Title\n",
    "## Smaller Title"
   ]
  },
  {
   "cell_type": "markdown",
   "id": "12d15452",
   "metadata": {},
   "source": [
    "\\begin{equation}\n",
    "e^x=\\sum_{i=0}^\\infty \\frac{1}{i!}x^i\n",
    "\\end{equation}"
   ]
  },
  {
   "cell_type": "markdown",
   "id": "6f127b54-a0a7-4493-ab99-9b245ac8f9af",
   "metadata": {},
   "source": [
    "Syntax with Explanation\n",
    "Print function, input function,Data types, type conversion, Operators and string functions\n"
   ]
  },
  {
   "cell_type": "code",
   "execution_count": 1,
   "id": "3d94d9a3-7bf3-4dd2-9dce-121ffeaac4cd",
   "metadata": {},
   "outputs": [
    {
     "name": "stdout",
     "output_type": "stream",
     "text": [
      "Hello World\n"
     ]
    }
   ],
   "source": [
    "#print function\n",
    "print(\"Hello World\")"
   ]
  },
  {
   "cell_type": "code",
   "execution_count": 2,
   "id": "5d50fe46-aeea-4663-8b65-aea185e5892c",
   "metadata": {},
   "outputs": [
    {
     "name": "stdin",
     "output_type": "stream",
     "text": [
      "Enter a value: 5\n"
     ]
    },
    {
     "name": "stdout",
     "output_type": "stream",
     "text": [
      "5\n"
     ]
    }
   ],
   "source": [
    "#input function\n",
    "a=input(\"Enter a value:\")\n",
    "print(a)"
   ]
  },
  {
   "cell_type": "code",
   "execution_count": 29,
   "id": "060b3b53-2114-4226-a2af-7def0445c308",
   "metadata": {},
   "outputs": [
    {
     "name": "stdout",
     "output_type": "stream",
     "text": [
      "<class 'int'>\n",
      "<class 'float'>\n",
      "<class 'str'>\n"
     ]
    }
   ],
   "source": [
    "#Basic Data types\n",
    "a_int=1\n",
    "b_float=1.5\n",
    "c_str= \"Hi\"\n",
    "print(type(a_int))#a_int holds an interger value\n",
    "print(type(b_float))#b_float holds a float value\n",
    "print(type(c_str))#c_str holds a string value"
   ]
  },
  {
   "cell_type": "code",
   "execution_count": 16,
   "id": "1a3bb475-a429-4975-b991-92ad983fbf11",
   "metadata": {},
   "outputs": [
    {
     "name": "stdout",
     "output_type": "stream",
     "text": [
      "True False\n"
     ]
    }
   ],
   "source": [
    "#boolen\n",
    "boolval1=bool(a>b)#boolean Value of either True or False is assigned based on the outcome of the condition being checked\n",
    "boolval2=bool(b>a)\n",
    "print(boolval1,boolval2)"
   ]
  },
  {
   "cell_type": "code",
   "execution_count": 17,
   "id": "83fb6a43-0a5d-436a-b0a8-73d92c32dfbf",
   "metadata": {},
   "outputs": [
    {
     "data": {
      "text/plain": [
       "bool"
      ]
     },
     "execution_count": 17,
     "metadata": {},
     "output_type": "execute_result"
    }
   ],
   "source": [
    "type(boolval1)# give the type of that variable"
   ]
  },
  {
   "cell_type": "code",
   "execution_count": 37,
   "id": "f99b308b-c400-4c97-9227-c8f566a9eaeb",
   "metadata": {},
   "outputs": [
    {
     "name": "stdout",
     "output_type": "stream",
     "text": [
      "<class 'int'> 9\n",
      "<class 'float'> 7.87\n",
      "<class 'str'> hi\n",
      "<class 'float'>\n",
      "<class 'int'> 1\n",
      "<class 'str'> 1.5\n",
      "<class 'bool'> True\n"
     ]
    }
   ],
   "source": [
    "#implicit type conversion\n",
    "c=5+4\n",
    "print(type(c),c)#integer values and c is of type integer\n",
    "c=5+2.87\n",
    "print(type(c),c)# one float and one int value - hence to avaoid any loss in the result python asssigns float type to c and stores the float result value\n",
    "\n",
    "#explicit type conversion\n",
    "b_float=1.5\n",
    "c=b_float\n",
    "print(type(c))#initially c is float\n",
    "c=int(b_float)# converting to int type\n",
    "print(type(c),c)\n",
    "c=str(b_float)#converting to str type\n",
    "print(type(c),c)\n",
    "c=bool(b_float)#converting to boolean type\n",
    "print(type(c),c)\n",
    "\n"
   ]
  },
  {
   "cell_type": "code",
   "execution_count": 9,
   "id": "8fc1668a-1299-4b01-8542-e84f126e975d",
   "metadata": {},
   "outputs": [
    {
     "name": "stdout",
     "output_type": "stream",
     "text": [
      "Sum= 7\n",
      "Dif= 3\n",
      "Product= 10\n",
      "Exponent= 25\n",
      "mod= 1\n",
      "Div= 2.5\n",
      "floordivison= 2\n"
     ]
    }
   ],
   "source": [
    "#Arithemetic Operators\n",
    "a=5\n",
    "b=2\n",
    "sum= a+b\n",
    "print(\"Sum=\",sum)#gives the sum of a and b\n",
    "dif= a-b\n",
    "print(\"Dif=\", dif)# gives the difference of a and b\n",
    "product= a*b\n",
    "print(\"Product=\",product)# give the product of a and b\n",
    "expo=a**b\n",
    "print(\"Exponent=\",expo)#give a to the power of b\n",
    "mod=a%b\n",
    "print(\"mod=\",mod)#gives the reminder\n",
    "div=a/b\n",
    "print(\"Div=\",div)# gives the quotient\n",
    "floor=a//b\n",
    "print(\"floordivison=\",floor)# this gives only the integer part of the quotient\n"
   ]
  },
  {
   "cell_type": "code",
   "execution_count": 19,
   "id": "c31e77a1-0736-4fb1-a5e9-f08e4f828072",
   "metadata": {},
   "outputs": [
    {
     "name": "stdout",
     "output_type": "stream",
     "text": [
      "5 2\n"
     ]
    }
   ],
   "source": [
    "#Assignment\n",
    "a=5#Assigning value to a\n",
    "b=2#assigning value to b\n",
    "print(a,b)\n"
   ]
  },
  {
   "cell_type": "code",
   "execution_count": 20,
   "id": "402dc86b-976c-46bb-bfae-12ebc23be3ca",
   "metadata": {},
   "outputs": [
    {
     "name": "stdout",
     "output_type": "stream",
     "text": [
      "False\n",
      "True\n",
      "False\n",
      "True\n",
      "False\n",
      "True\n"
     ]
    }
   ],
   "source": [
    "#Comparison a=5 and b=2\n",
    "print(a<b)#less than\n",
    "print(a>b)#greater than\n",
    "print(a==b)#equal to\n",
    "print(a!=b)#not equal to\n",
    "print(a<=b)#less than or equal to\n",
    "print(a>=b)#greater than or equal to\n"
   ]
  },
  {
   "cell_type": "code",
   "execution_count": 27,
   "id": "a826eab9-32cf-4b58-ba5a-4ec1857c953b",
   "metadata": {},
   "outputs": [
    {
     "name": "stdout",
     "output_type": "stream",
     "text": [
      "True\n",
      "False\n",
      "True\n",
      "False\n",
      "False\n",
      "True\n"
     ]
    }
   ],
   "source": [
    "#logicalOperator\n",
    "print(a==5 and b==2)# 'and' returns true only when both the conditions are met\n",
    "print(a==5 and b==3)# 'and' returns true only when both the conditions are met\n",
    "print(a==4 or b==2 )#'or' returns true when either of the conditions are met\n",
    "print(a==4 or b==1 )#'or' returns true when either of the conditions are met\n",
    "print(not(a==5 and b==2))#'not' reverses the result of the condition\n",
    "print(not(a==5 and b==1))#'not' reverses the result of the condition"
   ]
  },
  {
   "cell_type": "code",
   "execution_count": 60,
   "id": "47d9c43f-69be-4c2f-9851-7dc2121e8d28",
   "metadata": {},
   "outputs": [
    {
     "name": "stdout",
     "output_type": "stream",
     "text": [
      "hi dear\n",
      "Hello World\n",
      "My name is Ash, and I live at house no. 15\n",
      " Hi dear, how are you? \n",
      "how is work going?\n",
      "how is everyone at home?\n",
      "2\n",
      "ar\n",
      "dea\n",
      "ar\n",
      "  i love my dog, rover   \n",
      "  I LOVE MY DOG, ROVER   \n",
      "I love my dog, Rover\n",
      "  I lGve my dGg, RGver   \n",
      "['I', 'love', 'my', 'dog,', 'Rover']\n",
      "['  I love my dog', ' Rover   ']\n",
      "I love my dog's color\n",
      "The building name is \"Queen\" and wing is A\n"
     ]
    }
   ],
   "source": [
    "#String functions\n",
    "a_str= 'hi'\n",
    "b_str='dear'\n",
    "c_str=a_str+' ' +b_str# string can be concatenated by the sum operation\n",
    "print(c_str)\n",
    "d_str=\"Hello\" +' '+ \"World\" #String can be concatenated directly\n",
    "print(d_str)\n",
    "housenum = 15\n",
    "txt = \"My name is Ash, and I live at house no. {}\"\n",
    "print(txt.format(housenum))#Format() allows to concatenate string and integer value, it can allow multiple values as well each value should be represented as curly braces in the string which format could update\n",
    "a_para=\"\"\" Hi dear, how are you? \n",
    "how is work going?\n",
    "how is everyone at home?\"\"\"\n",
    "print(a_para)#multiline string can be given inside 3 double quotes\n",
    "\n",
    "print(len(a_str))# len function provides the length of the string\n",
    "\n",
    "print(b_str[2:4])# slices the string and brings the piece of string that falls in the given range of characters\n",
    "\n",
    "print(b_str[:3])# slice from the start until 3rd character\n",
    "\n",
    "print(b_str[2:])# slice the last 2 characters\n",
    "\n",
    "e_str=\"  I love my dog, Rover   \"\n",
    "print(e_str.lower())# converts everything to lowercase\n",
    "print(e_str.upper())#converts everything to uppercase\n",
    "print(e_str.strip())#removes white space from the begining or the end of the string\n",
    "print(e_str.replace(\"o\",\"G\"))#replaces particular character with the given character\n",
    "print(e_str.split())#splits the string as I havent given any separator\n",
    "print(e_str.split(','))#splits the string once it finds the separator ','\n",
    "\n",
    "z_str= 'I love my dog\\'s color'# \\' allows to use single quotes inside signle quoted string\n",
    "print(z_str)\n",
    "x_str= \"The building name is \\\"Queen\\\" and wing is A\"#\\  \"\\\"\\  this allows to uses double quotes inside double quotes\n",
    "print(x_str)\n",
    "#\\n - gives a new line, \\t gives a tab space \\r carriage return\n",
    "\n"
   ]
  },
  {
   "cell_type": "code",
   "execution_count": null,
   "id": "49b1cb8c-de5c-4fc8-ab8c-956840a96271",
   "metadata": {},
   "outputs": [],
   "source": []
  }
 ],
 "metadata": {
  "kernelspec": {
   "display_name": "Python 3 (ipykernel)",
   "language": "python",
   "name": "python3"
  },
  "language_info": {
   "codemirror_mode": {
    "name": "ipython",
    "version": 3
   },
   "file_extension": ".py",
   "mimetype": "text/x-python",
   "name": "python",
   "nbconvert_exporter": "python",
   "pygments_lexer": "ipython3",
   "version": "3.11.5"
  },
  "vscode": {
   "interpreter": {
    "hash": "949777d72b0d2535278d3dc13498b2535136f6dfe0678499012e853ee9abcab1"
   }
  }
 },
 "nbformat": 4,
 "nbformat_minor": 5
}
